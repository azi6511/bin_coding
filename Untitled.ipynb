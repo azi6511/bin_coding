{
 "cells": [
  {
   "cell_type": "code",
   "execution_count": 1,
   "metadata": {},
   "outputs": [
    {
     "name": "stdout",
     "output_type": "stream",
     "text": [
      "FRULA\n"
     ]
    }
   ],
   "source": [
    "import sys\n",
    "input = sys.stdin.readline\n",
    "\n",
    "s = list(input().rstrip())\n",
    "bomb = list(input().rstrip())\n",
    "\n",
    "stack = []\n",
    "\n",
    "for i in range(len(s)):\n",
    "    stack.append(s[i])\n",
    "    if len(stack)>=len(bomb) and bomb[-1]==stack[-1]:\n",
    "        if stack[-len(bomb):]==bomb:\n",
    "            for i in range(len(bomb)):\n",
    "                stack.pop()\n",
    "                \n",
    "if stack:\n",
    "    print(\"\".join(stack))\n",
    "else:\n",
    "    print(\"FRULA\")"
   ]
  },
  {
   "cell_type": "code",
   "execution_count": null,
   "metadata": {},
   "outputs": [],
   "source": []
  }
 ],
 "metadata": {
  "kernelspec": {
   "display_name": "Python 3",
   "language": "python",
   "name": "python3"
  },
  "language_info": {
   "codemirror_mode": {
    "name": "ipython",
    "version": 3
   },
   "file_extension": ".py",
   "mimetype": "text/x-python",
   "name": "python",
   "nbconvert_exporter": "python",
   "pygments_lexer": "ipython3",
   "version": "3.8.5"
  }
 },
 "nbformat": 4,
 "nbformat_minor": 4
}
